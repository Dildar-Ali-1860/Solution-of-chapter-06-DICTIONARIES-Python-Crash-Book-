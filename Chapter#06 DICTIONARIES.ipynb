{
 "cells": [
  {
   "cell_type": "code",
   "execution_count": 5,
   "id": "fb4e7543",
   "metadata": {},
   "outputs": [
    {
     "name": "stdout",
     "output_type": "stream",
     "text": [
      "green\n",
      "5\n"
     ]
    }
   ],
   "source": [
    "#NAME: DILDAR\n",
    "#DATE: 25th/JUNE/2022\n",
    "\n",
    "alien_0 = {'color': 'green', 'points': 5}\n",
    "print(alien_0[\"color\"])\n",
    "print(alien_0[\"points\"])"
   ]
  },
  {
   "cell_type": "code",
   "execution_count": 6,
   "id": "863576c3",
   "metadata": {},
   "outputs": [
    {
     "name": "stdout",
     "output_type": "stream",
     "text": [
      "green\n"
     ]
    }
   ],
   "source": [
    "alien_0 = {'color': 'green'}\n",
    "print(alien_0['color'])"
   ]
  },
  {
   "cell_type": "code",
   "execution_count": 7,
   "id": "5de7b2d3",
   "metadata": {},
   "outputs": [
    {
     "name": "stdout",
     "output_type": "stream",
     "text": [
      "You just earned 5 points!\n"
     ]
    }
   ],
   "source": [
    "alien_0 = {'color': 'green', 'points': 5}\n",
    "new_points = alien_0['points']\n",
    "print(\"You just earned \" + str(new_points) + \" points!\")"
   ]
  },
  {
   "cell_type": "code",
   "execution_count": 8,
   "id": "243bd0f6",
   "metadata": {},
   "outputs": [
    {
     "name": "stdout",
     "output_type": "stream",
     "text": [
      "You just earned 5 points!\n"
     ]
    }
   ],
   "source": [
    "alien_0 = {'color': 'green', 'points': 5}\n",
    "#new_points = alien_0['points']\n",
    "print(\"You just earned \" + str(alien_0['points']) + \" points!\")"
   ]
  },
  {
   "cell_type": "code",
   "execution_count": 10,
   "id": "09de6c79",
   "metadata": {},
   "outputs": [
    {
     "name": "stdout",
     "output_type": "stream",
     "text": [
      "{'color': 'green', 'points': 5}\n",
      "{'color': 'green', 'points': 5, 'x_position': 0, 'y_position': 25}\n"
     ]
    }
   ],
   "source": [
    "alien_0 = {'color': 'green', 'points': 5}\n",
    "print(alien_0)\n",
    "alien_0['x_position'] = 0\n",
    "alien_0['y_position'] = 25\n",
    "print(alien_0)"
   ]
  },
  {
   "cell_type": "code",
   "execution_count": 11,
   "id": "721bdb40",
   "metadata": {},
   "outputs": [
    {
     "name": "stdout",
     "output_type": "stream",
     "text": [
      "{'color': 'green', 'points': 5}\n"
     ]
    }
   ],
   "source": [
    "alien_0 = {}\n",
    "alien_0['color'] = 'green'\n",
    "alien_0['points'] = 5\n",
    "print(alien_0)"
   ]
  },
  {
   "cell_type": "code",
   "execution_count": 12,
   "id": "66aedf58",
   "metadata": {},
   "outputs": [
    {
     "name": "stdout",
     "output_type": "stream",
     "text": [
      "The alien is green.\n",
      "The alien is now yellow.\n"
     ]
    }
   ],
   "source": [
    "alien_0 = {'color': 'green'}\n",
    "print(\"The alien is \" + alien_0['color'] + \".\")\n",
    "alien_0['color'] = 'yellow'\n",
    "print(\"The alien is now \" + alien_0['color'] + \".\")"
   ]
  },
  {
   "cell_type": "code",
   "execution_count": 13,
   "id": "ff3ea89c",
   "metadata": {},
   "outputs": [
    {
     "name": "stdout",
     "output_type": "stream",
     "text": [
      "Original x-position: 0\n",
      "New x-position: 2\n"
     ]
    }
   ],
   "source": [
    "alien_0 = {'x_position': 0, 'y_position': 25, 'speed': 'medium'}\n",
    "print(\"Original x-position: \" + str(alien_0['x_position']))\n",
    "\n",
    "if alien_0['speed'] == 'slow':\n",
    " x_increment = 1\n",
    "elif alien_0['speed'] == 'medium':\n",
    " x_increment = 2\n",
    "else:\n",
    " x_increment = 3\n",
    "\n",
    "alien_0['x_position'] = alien_0['x_position'] + x_increment\n",
    "print(\"New x-position: \" + str(alien_0['x_position']))"
   ]
  },
  {
   "cell_type": "code",
   "execution_count": 14,
   "id": "5237edcc",
   "metadata": {},
   "outputs": [
    {
     "name": "stdout",
     "output_type": "stream",
     "text": [
      "{'color': 'green', 'points': 5}\n",
      "{'color': 'green'}\n"
     ]
    }
   ],
   "source": [
    "alien_0 = {'color': 'green', 'points': 5}\n",
    "print(alien_0)\n",
    "del alien_0['points']\n",
    "print(alien_0)"
   ]
  },
  {
   "cell_type": "code",
   "execution_count": 15,
   "id": "c841e842",
   "metadata": {},
   "outputs": [
    {
     "name": "stdout",
     "output_type": "stream",
     "text": [
      "Sarah's favorite language is C.\n"
     ]
    }
   ],
   "source": [
    "favorite_languages = {\n",
    " 'jen': 'python',\n",
    " 'sarah': 'c',\n",
    " 'edward': 'ruby',\n",
    " 'phil': 'python',\n",
    " }\n",
    "print(\"Sarah's favorite language is \" +favorite_languages['sarah'].title() + \".\")"
   ]
  },
  {
   "cell_type": "code",
   "execution_count": 21,
   "id": "a90347ca",
   "metadata": {},
   "outputs": [
    {
     "name": "stdout",
     "output_type": "stream",
     "text": [
      "Fisrt name: Dildar\n",
      "Last name: Ali\n",
      "Age: 22\n",
      "City: Karachi\n"
     ]
    }
   ],
   "source": [
    "#TASK\n",
    "#6.1\n",
    "#Person: Use a dictionary to store information about a person you know Store their first name, last name, age, and the city in which they live. You  should have keys such as first_name, last_name, age, and city. Print each piece of information stored in your dictionary\n",
    "\n",
    "information={\"First_name\":\"Dildar\",\"Last_name\":\"Ali\",\"Age\":22,\"City\":\"Karachi\"}\n",
    "\n",
    "print(\"Fisrt name: \"+information['First_name'])\n",
    "print(\"Last name: \"+information['Last_name'])\n",
    "print(\"Age: \"+str(information['Age']))\n",
    "print(\"City: \"+information['City'])"
   ]
  },
  {
   "cell_type": "code",
   "execution_count": 40,
   "id": "da462e6f",
   "metadata": {},
   "outputs": [
    {
     "name": "stdout",
     "output_type": "stream",
     "text": [
      "Dildar's favorite number is: 1860\n",
      "Ali's favorite number is: 123\n",
      "Asad's favorite number is: 786\n",
      "Nasir's favorite number is: 736\n",
      "Bilal's favorite number is: 456\n"
     ]
    }
   ],
   "source": [
    "#6.2\n",
    "#Favorite Numbers: Use a dictionary to store people’s favorite numbers.\n",
    "#Think of five names, and use them as keys in your dictionary. Think of a favorite number for each person, and store each as a value in your dictionary. Print each person’s name and their favorite number. For even more fun, poll a few friends and get some actual data for your program.\n",
    "\n",
    "names={\"Dildar\":1860,\"Ali\":123,\"Asad\":786,\"Nasir\":736,\"Bilal\":456}\n",
    "for name,favourite_number in names.items():\n",
    "    print(name.title()+\"'s favorite number is: \"+str(favourite_number))"
   ]
  },
  {
   "cell_type": "code",
   "execution_count": 36,
   "id": "24e79667",
   "metadata": {},
   "outputs": [
    {
     "name": "stdout",
     "output_type": "stream",
     "text": [
      "\n",
      "Key: username\n",
      "Value: Ali\n",
      "\n",
      "Key: first_name\n",
      "Value: Dildar\n",
      "\n",
      "Key: last_name\n",
      "Value: Ali\n"
     ]
    }
   ],
   "source": [
    "user_0 = {\n",
    " 'username': 'Ali',\n",
    " 'first_name': 'Dildar',\n",
    " 'last_name' : 'Ali'\n",
    "}\n",
    "for key, value in user_0.items():\n",
    "    print(\"\\nKey: \" + key)\n",
    "    print(\"Value: \" + value)"
   ]
  },
  {
   "cell_type": "code",
   "execution_count": 37,
   "id": "7fc5325d",
   "metadata": {},
   "outputs": [
    {
     "name": "stdout",
     "output_type": "stream",
     "text": [
      "Jen's favorite language is Python.\n",
      "Sarah's favorite language is C.\n",
      "Edward's favorite language is Ruby.\n",
      "Phil's favorite language is Python.\n"
     ]
    }
   ],
   "source": [
    "favorite_languages = {'jen': 'python', 'sarah': 'c', 'edward': 'ruby', 'phil': 'python', }\n",
    "for name, language in favorite_languages.items():\n",
    "    print(name.title() + \"'s favorite language is \" +\n",
    "    language.title() + \".\")"
   ]
  },
  {
   "cell_type": "code",
   "execution_count": 47,
   "id": "1b522666",
   "metadata": {},
   "outputs": [
    {
     "name": "stdout",
     "output_type": "stream",
     "text": [
      "Jen\n",
      "Sarah\n",
      "Edward\n",
      "Phil\n"
     ]
    }
   ],
   "source": [
    "for name in favorite_languages.keys():\n",
    "     print(name.title())"
   ]
  },
  {
   "cell_type": "code",
   "execution_count": 51,
   "id": "0775a2fe",
   "metadata": {},
   "outputs": [
    {
     "name": "stdout",
     "output_type": "stream",
     "text": [
      "Jen\n",
      "Sarah\n",
      " Hi Sarah, I see your favorite language is C!\n",
      "Edward\n",
      "Phil\n",
      " Hi Phil, I see your favorite language is Python!\n"
     ]
    }
   ],
   "source": [
    "favorite_languages = { 'jen': 'python', 'sarah': 'c', 'edward': 'ruby', 'phil': 'python' }\n",
    "friends = ['phil', 'sarah']\n",
    "for name in favorite_languages.keys():\n",
    "     print(name.title())\n",
    " \n",
    "     if name in friends:\n",
    "         print(\" Hi \" + name.title() + \", I see your favorite language is \" + favorite_languages[name].title() + \"!\")"
   ]
  },
  {
   "cell_type": "code",
   "execution_count": 52,
   "id": "486fc4cf",
   "metadata": {},
   "outputs": [
    {
     "name": "stdout",
     "output_type": "stream",
     "text": [
      "Erin, please take our poll!\n"
     ]
    }
   ],
   "source": [
    "if 'erin' not in favorite_languages.keys():\n",
    "     print(\"Erin, please take our poll!\")"
   ]
  },
  {
   "cell_type": "code",
   "execution_count": 53,
   "id": "eca4ba73",
   "metadata": {},
   "outputs": [
    {
     "name": "stdout",
     "output_type": "stream",
     "text": [
      "Edward, thank you for taking the poll.\n",
      "Jen, thank you for taking the poll.\n",
      "Phil, thank you for taking the poll.\n",
      "Sarah, thank you for taking the poll.\n"
     ]
    }
   ],
   "source": [
    "favorite_languages = {\n",
    " 'jen': 'python',\n",
    " 'sarah': 'c',\n",
    " 'edward': 'ruby',\n",
    " 'phil': 'python',\n",
    " }\n",
    "for name in sorted(favorite_languages.keys()):\n",
    "     print(name.title() + \", thank you for taking the poll.\")"
   ]
  },
  {
   "cell_type": "code",
   "execution_count": 54,
   "id": "ae27cf7b",
   "metadata": {},
   "outputs": [
    {
     "name": "stdout",
     "output_type": "stream",
     "text": [
      "The following languages have been mentioned:\n",
      "Python\n",
      "C\n",
      "Ruby\n",
      "Python\n"
     ]
    }
   ],
   "source": [
    "print(\"The following languages have been mentioned:\")\n",
    "\n",
    "for language in favorite_languages.values():\n",
    "     print(language.title())"
   ]
  },
  {
   "cell_type": "code",
   "execution_count": 55,
   "id": "1a689271",
   "metadata": {},
   "outputs": [
    {
     "name": "stdout",
     "output_type": "stream",
     "text": [
      "Ruby\n",
      "Python\n",
      "C\n"
     ]
    }
   ],
   "source": [
    "for language in set(favorite_languages.values()):\n",
    "     print(language.title())"
   ]
  },
  {
   "cell_type": "code",
   "execution_count": 61,
   "id": "a037bacf",
   "metadata": {},
   "outputs": [
    {
     "name": "stdout",
     "output_type": "stream",
     "text": [
      "The Indus river runs through  Pakistan .\n",
      "The Nile river runs through  Egypt .\n",
      "The Ganga river runs through  India .\n"
     ]
    }
   ],
   "source": [
    "#6.5\n",
    "#Rivers: Make a dictionary containing three major rivers and the country each river runs through. One key-value pair might be 'nile': 'egypt'.\n",
    "#• Use a loop to print a sentence about each river, such as The Nile runs through Egypt.\n",
    "#• Use a loop to print the name of each river included in the dictionary.\n",
    "#• Use a loop to print the name of each country included in the dictionary.\n",
    "\n",
    "rivers={\"indus\":\"pakistan\",\"nile\":\"egypt\",'ganga':'india'}\n",
    "\n",
    "for river,country_name in rivers.items():\n",
    "    print(\"The\",river.title(),\"river runs through \",country_name.title(),\".\")"
   ]
  },
  {
   "cell_type": "code",
   "execution_count": 1,
   "id": "c206692d",
   "metadata": {},
   "outputs": [
    {
     "name": "stdout",
     "output_type": "stream",
     "text": [
      "Jen's favorite language is Python.\n",
      "Sarah's favorite language is C.\n",
      "Edward's favorite language is Ruby.\n",
      "Phil's favorite language is Python.\n",
      "\n",
      "\n",
      "Thank you for taking the poll, Phil!\n",
      "Dildar, what's your favorite programming language?\n",
      "Aamir, what's your favorite programming language?\n",
      "Asad, what's your favorite programming language?\n",
      "Thank you for taking the poll, Sarah!\n",
      "Bilal, what's your favorite programming language?\n",
      "Thank you for taking the poll, Edward!\n"
     ]
    }
   ],
   "source": [
    "#6.6\n",
    "#Polling: Use the code in favorite_languages.py (page 104).\n",
    "#• Make a list of people who should take the favorite languages poll. Include some names that are already in the dictionary and some that are not.\n",
    "#• Loop through the list of people who should take the poll. If they have already taken the poll, print a message thanking them for responding.\n",
    "#If they have not yet taken the poll, print a message inviting them to take the poll.\n",
    "\n",
    "favorite_languages = {'jen': 'python','sarah': 'c','edward': 'ruby','phil': 'python' }\n",
    "\n",
    "for name, language in favorite_languages.items():\n",
    "    print(name.title() + \"'s favorite language is \" + language.title() + \".\")\n",
    "\n",
    "print(\"\\n\")\n",
    "\n",
    "coders = ['phil', 'dildar', 'aamir', 'asad', 'sarah', 'bilal', 'edward']\n",
    "for coder in coders:\n",
    "    if coder in favorite_languages.keys():\n",
    "        print(\"Thank you for taking the poll, \" + coder.title() + \"!\")\n",
    "    else:\n",
    "        print(coder.title() + \", what's your favorite programming language?\")"
   ]
  },
  {
   "cell_type": "code",
   "execution_count": 3,
   "id": "d90152a4",
   "metadata": {},
   "outputs": [
    {
     "name": "stdout",
     "output_type": "stream",
     "text": [
      "{'color': 'green', 'points': 5}\n",
      "{'color': 'yellow', 'points': 10}\n",
      "{'color': 'red', 'points': 15}\n"
     ]
    }
   ],
   "source": [
    "alien_0 = {'color': 'green', 'points': 5}\n",
    "alien_1 = {'color': 'yellow', 'points': 10}\n",
    "alien_2 = {'color': 'red', 'points': 15}\n",
    "aliens = [alien_0, alien_1, alien_2]\n",
    "for alien in aliens:\n",
    "     print(alien)"
   ]
  },
  {
   "cell_type": "code",
   "execution_count": 6,
   "id": "f4fcb566",
   "metadata": {},
   "outputs": [
    {
     "name": "stdout",
     "output_type": "stream",
     "text": [
      "{'color': 'green', 'points': 5, 'speed': 'slow'}\n",
      "{'color': 'green', 'points': 5, 'speed': 'slow'}\n",
      "{'color': 'green', 'points': 5, 'speed': 'slow'}\n",
      "{'color': 'green', 'points': 5, 'speed': 'slow'}\n",
      "{'color': 'green', 'points': 5, 'speed': 'slow'}\n",
      "\n",
      "\n",
      "Total number of aliens: 30\n"
     ]
    }
   ],
   "source": [
    "# Make an empty list for storing aliens.\n",
    "aliens = []\n",
    "# Make 30 green aliens.\n",
    "for alien_number in range(30):\n",
    "    new_alien = {'color': 'green', 'points': 5, 'speed': 'slow'}\n",
    "    aliens.append(new_alien)\n",
    " \n",
    "# Show the first 5 aliens:\n",
    "for alien in aliens[:5]:\n",
    "     print(alien)\n",
    "print(\"\\n\")\n",
    "\n",
    "# Show how many aliens have been created.\n",
    "print(\"Total number of aliens: \" + str(len(aliens)))"
   ]
  },
  {
   "cell_type": "code",
   "execution_count": 11,
   "id": "f843f76e",
   "metadata": {},
   "outputs": [
    {
     "name": "stdout",
     "output_type": "stream",
     "text": [
      "{'color': 'yellow', 'points': 10, 'speed': 'medium'}\n",
      "{'color': 'yellow', 'points': 10, 'speed': 'medium'}\n",
      "{'color': 'yellow', 'points': 10, 'speed': 'medium'}\n",
      "{'color': 'green', 'points': 5, 'speed': 'slow'}\n",
      "{'color': 'green', 'points': 5, 'speed': 'slow'}\n",
      "...\n"
     ]
    }
   ],
   "source": [
    "aliens = []\n",
    "# Make 30 green aliens.\n",
    "for alien_number in range (0,30):\n",
    "    new_alien = {'color': 'green', 'points': 5, 'speed': 'slow'}\n",
    "    aliens.append(new_alien)\n",
    " \n",
    "for alien in aliens[0:3]:\n",
    "     if alien['color'] == 'green':\n",
    "             alien['color'] = 'yellow'\n",
    "             alien['speed'] = 'medium'\n",
    "             alien['points'] = 10\n",
    " \n",
    "# Show the first 5 aliens:\n",
    "for alien in aliens[0:5]:\n",
    "     print(alien)\n",
    "print(\"...\")"
   ]
  },
  {
   "cell_type": "code",
   "execution_count": 19,
   "id": "cce4b0aa",
   "metadata": {},
   "outputs": [
    {
     "name": "stdout",
     "output_type": "stream",
     "text": [
      "You ordered a thick-crust pizza with the following toppings: \n",
      "\n",
      "mushrooms\n",
      "extra cheese\n"
     ]
    }
   ],
   "source": [
    "# Store information about a pizza being ordered.\n",
    "pizza = {'crust': 'thick', 'toppings': ['mushrooms', 'extra cheese']}\n",
    "\n",
    "# Summarize the order.\n",
    "print(\"You ordered a \"+ pizza['crust'] +\"-crust pizza \" +\"with the following toppings: \\n\") \n",
    "for topping in pizza['toppings']:\n",
    "       print(topping)\n"
   ]
  },
  {
   "cell_type": "code",
   "execution_count": 6,
   "id": "c9c8e009",
   "metadata": {},
   "outputs": [
    {
     "name": "stdout",
     "output_type": "stream",
     "text": [
      "\n",
      "Jen's favorite languages are:\n",
      "\tPython\n",
      "\tRuby\n",
      "\n",
      "Sarah's favorite languages are:\n",
      "\tC\n",
      "\n",
      "Edward's favorite languages are:\n",
      "\tRuby\n",
      "\tGo\n",
      "\n",
      "Phil's favorite languages are:\n",
      "\tPython\n",
      "\tHaskell\n"
     ]
    }
   ],
   "source": [
    "favorite_languages = {\n",
    " 'jen': ['python', 'ruby'],\n",
    " 'sarah': ['c'],\n",
    " 'edward': ['ruby', 'go'],\n",
    " 'phil': ['python', 'haskell'],\n",
    " }\n",
    "for name, languages in favorite_languages.items():    \n",
    "     print(\"\\n\" + name.title() + \"'s favorite languages are:\")\n",
    "     for language in languages:\n",
    "             print(\"\\t\" + language.title())"
   ]
  },
  {
   "cell_type": "code",
   "execution_count": 9,
   "id": "372a1346",
   "metadata": {},
   "outputs": [
    {
     "name": "stdout",
     "output_type": "stream",
     "text": [
      "\n",
      "Username: aeinstein\n",
      "\tFull name: Albert Einstein\n",
      "\tLocation: Princeton\n",
      "\n",
      "Username: mcurie\n",
      "\tFull name: Marie Curie\n",
      "\tLocation: Paris\n"
     ]
    }
   ],
   "source": [
    "users = {\n",
    " 'aeinstein': {\n",
    " 'first': 'albert',\n",
    " 'last': 'einstein',\n",
    " 'location': 'princeton',\n",
    " },\n",
    " 'mcurie': {\n",
    " 'first': 'marie',\n",
    " 'last': 'curie',\n",
    " 'location': 'paris',\n",
    " },\n",
    " }\n",
    "for username, user_info in users.items():\n",
    "  print(\"\\nUsername: \" + username)\n",
    "  full_name = user_info['first'] + \" \" + user_info['last']\n",
    "  location = user_info['location']\n",
    "  print(\"\\tFull name: \" + full_name.title())\n",
    "  print(\"\\tLocation: \" + location.title())"
   ]
  },
  {
   "cell_type": "code",
   "execution_count": 21,
   "id": "3e571ea0",
   "metadata": {},
   "outputs": [
    {
     "name": "stdout",
     "output_type": "stream",
     "text": [
      "[{'First_name': 'Dildar', 'Last_name': 'Ali', 'Age': 22, 'City': 'Karachi'}, {'First_name': 'Abdul', 'Last_name': 'Samad', 'Age': 18, 'City': 'Dadu'}, {'First_name': 'Aamir', 'Last_name': 'Khan', 'Age': 25, 'City': 'Jamshoro'}]\n",
      "\n",
      "                    'Result'\n",
      "Fisrt name: Dildar\n",
      "Last name: Ali\n",
      "Age: 22 years\n",
      "City: Karachi\n",
      "\n",
      "Fisrt name: Abdul\n",
      "Last name: Samad\n",
      "Age: 18 years\n",
      "City: Dadu\n",
      "\n",
      "Fisrt name: Aamir\n",
      "Last name: Khan\n",
      "Age: 25 years\n",
      "City: Jamshoro\n",
      "\n"
     ]
    }
   ],
   "source": [
    "#TASK\n",
    "#6-7. People: Start with the program you wrote for Exercise 6-1 (page 102). Make two new dictionaries representing different people, and store all three dictionaries in a list called people. Loop through your list of people. As you loop through the list, print everything you know about each person.\n",
    "\n",
    "information={\"First_name\":\"Dildar\",\"Last_name\":\"Ali\",\"Age\":22,\"City\":\"Karachi\"}\n",
    "information2={\"First_name\":\"Abdul\",\"Last_name\":\"Samad\",\"Age\":18,\"City\":\"Dadu\"}\n",
    "information3={\"First_name\":\"Aamir\",\"Last_name\":\"Khan\",\"Age\":25,\"City\":\"Jamshoro\"}\n",
    "people=[information,information2,information3]\n",
    "print(people)\n",
    "print(\"\\n                    'Result'\")\n",
    "for b in people:\n",
    "    print(\"Fisrt name: \"+b['First_name'])\n",
    "    print(\"Last name: \"+b['Last_name'])\n",
    "    print(\"Age: \"+str(b['Age'])+\" years\" )\n",
    "    print(\"City: \"+b['City']+\"\\n\" )\n"
   ]
  },
  {
   "cell_type": "code",
   "execution_count": 64,
   "id": "40903618",
   "metadata": {},
   "outputs": [
    {
     "name": "stdout",
     "output_type": "stream",
     "text": [
      "[{'name': 'Linus', 'kind': 'Male Dog', \"owner's name\": 'Asad', 'age': 2}, {'name': 'Coco', 'kind': 'Male Cat', \"owner's name\": 'Dildar', 'age': 1}, {'name': 'Roxy', 'kind': 'Female Cat ', \"owner's name\": 'Aamir', 'age': 2.5}]\n",
      "\n",
      "                     Result\n",
      "Name of pet: Linus\n",
      "Kind of pet: Male Dog\n",
      "owners_name: Asad\n",
      "Age: 2 years\n",
      "\n",
      "Name of pet: Coco\n",
      "Kind of pet: Male Cat\n",
      "owners_name: Dildar\n",
      "Age: 1 years\n",
      "\n",
      "Name of pet: Roxy\n",
      "Kind of pet: Female Cat \n",
      "owners_name: Aamir\n",
      "Age: 2.5 years\n",
      "\n"
     ]
    }
   ],
   "source": [
    "#6.7\n",
    "#Pets: Make several dictionaries, where the name of each dictionary is the name of a pet. In each dictionary, include the kind of animal and the owner’s name. Store these dictionaries in a list called pets. Next, loop through your list and as you do print everything you know about each pet.\n",
    "\n",
    "linus={\"name\":'Linus',\"kind\":\"Male Dog\",\"owner's name\":\"Asad\",\"age\":2}\n",
    "coco={\"name\":'Coco',\"kind\":\"Male Cat\",\"owner's name\":\"Dildar\",\"age\":1}\n",
    "roxy={\"name\":'Roxy',\"kind\":\"Female Cat \",\"owner's name\":\"Aamir\",\"age\":2.5}\n",
    "\n",
    "pets=[linus,coco,roxy]\n",
    "print(pets)\n",
    "print('\\n                     Result')\n",
    "for pet in pets:\n",
    "        print(\"Name of pet: \"+pet['name'])\n",
    "        print(\"Kind of pet: \"+pet['kind'])\n",
    "        print(\"owners_name: \"+pet[\"owner's name\"])\n",
    "        print(\"Age: \"+str(pet['age'])+\" years\\n\" )\n",
    "        "
   ]
  },
  {
   "cell_type": "code",
   "execution_count": 42,
   "id": "1692a47b",
   "metadata": {},
   "outputs": [
    {
     "name": "stdout",
     "output_type": "stream",
     "text": [
      "\n",
      "Dildar's favorite places are: '\n",
      "Gorakh\n",
      "Moen-Jo-Daro\n",
      "Hawksbay\n",
      "\n",
      "Asad's favorite places are: '\n",
      "Do Darya\n",
      "Al Manzar\n",
      "\n",
      "Aamir's favorite places are: '\n",
      "Keejhar Lake\n",
      "Kashir Point\n"
     ]
    }
   ],
   "source": [
    "#6.9\n",
    "#Favorite Places: Make a dictionary called favorite_places. Think of three names to use as keys in the dictionary, and store one to three favorite places for each person. To make this exercise a bit more interesting, ask some friends to name a few of their favorite places. Loop through the dictionary, and print each person’s name and their favorite places.\n",
    "\n",
    "favorite_places={\n",
    "                 \"Dildar\":['Gorakh','moen-jo-Daro',\"Hawksbay\"],\n",
    "                 \"Asad\":['Do Darya',\"Al Manzar\"],    \n",
    "                 \"Aamir\":['Keejhar lake','Kashir point']\n",
    "                   \n",
    "}   \n",
    "\n",
    "for name,place in favorite_places.items():\n",
    "    print(\"\\n\"+name.title()+\"'s favorite places are: '\")\n",
    "    for favorite in place:\n",
    "        print(favorite.title())\n",
    "        "
   ]
  },
  {
   "cell_type": "code",
   "execution_count": 44,
   "id": "6e17c6fc",
   "metadata": {},
   "outputs": [
    {
     "name": "stdout",
     "output_type": "stream",
     "text": [
      "\n",
      "Dildar's favorite numbers are: \n",
      "1860\n",
      "999\n",
      "122\n",
      "\n",
      "Ali's favorite numbers are: \n",
      "123\n",
      "345\n",
      "456\n",
      "\n",
      "Asad's favorite numbers are: \n",
      "786\n",
      "121\n",
      "212\n",
      "\n",
      "Nasir's favorite numbers are: \n",
      "736\n",
      "546\n",
      "980\n",
      "\n",
      "Bilal's favorite numbers are: \n",
      "456\n",
      "890\n",
      "789\n"
     ]
    }
   ],
   "source": [
    "#6.10\n",
    "#Favorite Numbers: Modify your program from Exercise 6-2 (page 102) so each person can have more than one favorite number. Then print each person’s name along with their favorite numbers.\n",
    "\n",
    "names={\"Dildar\":[1860,999,122],\"Ali\":[123,345,456],\"Asad\":[786,121,212],\"Nasir\":[736,546,980],\"Bilal\":[456,890,789]}\n",
    "for name,favourite_number in names.items():\n",
    "    print(\"\\n\"+name.title()+\"'s favorite numbers are: \")\n",
    "    for number in favourite_number:\n",
    "        print(number)"
   ]
  },
  {
   "cell_type": "code",
   "execution_count": 90,
   "id": "d2dd3ef5",
   "metadata": {},
   "outputs": [
    {
     "name": "stdout",
     "output_type": "stream",
     "text": [
      "\n",
      "Dadu is in Pakistan.\n",
      "Dadu is famous for places of interest like Gorakh Hill and Manchar Lake \n",
      "Dadu has a poultaion of around 171191\n",
      "\n",
      "Krarchi is in Pakistan.\n",
      "Krarchi is the largest city of pakistan!\n",
      "Krarchi has a poultaion of around  14.91 million\n",
      "\n",
      "Paris is in France.\n",
      "Paris is famous for Eiffil tower and the terraces of its cafés\n",
      "Paris has a poultaion of around 2.161 million\n"
     ]
    }
   ],
   "source": [
    "#6.11\n",
    "#Cities: Make a dictionary called cities. Use the names of three cities as keys in your dictionary. Create a dictionary of information about each city and include the country that the city is in, its approximate population, and one fact about that city. The keys for each city’s dictionary should be something like country, population, and fact. Print the name of each city and all of the infor\u0002mation you have stored about it.\n",
    "\n",
    "cities={\n",
    "    \"Dadu\":{\n",
    "    \n",
    "    \"country\":\"Pakistan\",\n",
    "    \"fact\":\" is famous for places of interest like Gorakh Hill and Manchar Lake \",\n",
    "    \"population\":171191\n",
    "        },\n",
    "    \n",
    "    \"krarchi\": {\n",
    "            'country':'Pakistan',\n",
    "            'fact':' is the largest city of pakistan!' ,\n",
    "            'population':\" 14.91 million\"\n",
    "        },\n",
    "    \n",
    "    \"Paris\":{\n",
    "        \"country\":\"France\",\n",
    "        \"fact\":\" is famous for Eiffil tower and the terraces of its cafés\",\n",
    "        \"population\":\"2.161 million\"\n",
    "        \n",
    "    }\n",
    "                  \n",
    "}\n",
    "for city,names in cities.items():\n",
    "    country=names[\"country\"].title()\n",
    "    fact=names[\"fact\"]\n",
    "    population=str(names[\"population\"])\n",
    "    \n",
    "    print(\"\\n\"+city.title()+\" is in \"+country+\".\")\n",
    "    print(city.title()+fact)\n",
    "    print(city.title()+\" has a poultaion of around \"+population)\n",
    "    "
   ]
  },
  {
   "cell_type": "code",
   "execution_count": null,
   "id": "e7f2a1b8",
   "metadata": {},
   "outputs": [],
   "source": [
    "#                         THE END OF CH#06"
   ]
  }
 ],
 "metadata": {
  "kernelspec": {
   "display_name": "Python 3 (ipykernel)",
   "language": "python",
   "name": "python3"
  },
  "language_info": {
   "codemirror_mode": {
    "name": "ipython",
    "version": 3
   },
   "file_extension": ".py",
   "mimetype": "text/x-python",
   "name": "python",
   "nbconvert_exporter": "python",
   "pygments_lexer": "ipython3",
   "version": "3.9.12"
  }
 },
 "nbformat": 4,
 "nbformat_minor": 5
}
